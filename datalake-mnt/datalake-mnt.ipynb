{
 "cells": [
  {
   "cell_type": "code",
   "execution_count": 0,
   "metadata": {
    "application/vnd.databricks.v1+cell": {
     "cellMetadata": {
      "byteLimit": 2048000,
      "rowLimit": 10000
     },
     "inputWidgets": {},
     "nuid": "7b570de4-2d4d-4b83-896e-e6a602956f76",
     "showTitle": false,
     "title": ""
    }
   },
   "outputs": [
    {
     "output_type": "stream",
     "name": "stdout",
     "output_type": "stream",
     "text": [
      "Out[9]: True"
     ]
    }
   ],
   "source": [
    "aws_bucket_name = \"\"\n",
    "mount_name = \"\"\n",
    "\n",
    "access_key = \"\"\n",
    "secret_key = \"\"\n",
    "\n",
    "dbutils.fs.mount(f\"s3n://{access_key}:{secret_key}@{aws_bucket_name}\", f\"/mnt/{mount_name}\")"
   ]
  },
  {
   "cell_type": "code",
   "execution_count": 0,
   "metadata": {
    "application/vnd.databricks.v1+cell": {
     "cellMetadata": {
      "byteLimit": 2048000,
      "rowLimit": 10000
     },
     "inputWidgets": {},
     "nuid": "976c2be9-e087-46ad-9ff5-6eb885c9b869",
     "showTitle": false,
     "title": ""
    }
   },
   "outputs": [
    {
     "output_type": "stream",
     "name": "stdout",
     "output_type": "stream",
     "text": [
      "Out[12]: [FileInfo(path='dbfs:/mnt/f1_datalake/', name='f1_datalake/', size=0, modificationTime=0),\n FileInfo(path='dbfs:/mnt/training/', name='training/', size=0, modificationTime=0)]"
     ]
    }
   ],
   "source": [
    "dbutils.fs.ls(\"/mnt\")"
   ]
  },
  {
   "cell_type": "code",
   "execution_count": 0,
   "metadata": {
    "application/vnd.databricks.v1+cell": {
     "cellMetadata": {
      "byteLimit": 2048000,
      "rowLimit": 10000
     },
     "inputWidgets": {},
     "nuid": "1b2e5b05-eb12-4a37-8b74-69ad439ac1e6",
     "showTitle": false,
     "title": ""
    }
   },
   "outputs": [
    {
     "output_type": "display_data",
     "data": {
      "text/html": [
       "<style scoped>\n",
       "  .table-result-container {\n",
       "    max-height: 300px;\n",
       "    overflow: auto;\n",
       "  }\n",
       "  table, th, td {\n",
       "    border: 1px solid black;\n",
       "    border-collapse: collapse;\n",
       "  }\n",
       "  th, td {\n",
       "    padding: 5px;\n",
       "  }\n",
       "  th {\n",
       "    text-align: left;\n",
       "  }\n",
       "</style><div class='table-result-container'><table class='table-result'><thead style='background-color: white'><tr></tr></thead><tbody></tbody></table></div>"
      ]
     },
     "metadata": {
      "application/vnd.databricks.v1+output": {
       "addedWidgets": {},
       "aggData": [],
       "aggError": "",
       "aggOverflow": false,
       "aggSchema": [],
       "aggSeriesLimitReached": false,
       "aggType": "",
       "arguments": {},
       "columnCustomDisplayInfos": {},
       "data": [],
       "datasetInfos": [],
       "dbfsResultPath": null,
       "isJsonSchema": true,
       "metadata": {
        "isDbfsCommandResult": false
       },
       "overflow": false,
       "plotOptions": {
        "customPlotOptions": {},
        "displayType": "table",
        "pivotAggregation": null,
        "pivotColumns": null,
        "xColumns": null,
        "yColumns": null
       },
       "removedWidgets": [],
       "schema": [],
       "type": "table"
      }
     },
     "output_type": "display_data"
    }
   ],
   "source": [
    "%sql\n",
    "DROP TABLE IF EXISTS circuits;\n",
    "DROP TABLE IF EXISTS constructor_results;\n",
    "DROP TABLE IF EXISTS constructor_standings;\n",
    "DROP TABLE IF EXISTS constructors;\n",
    "DROP TABLE IF EXISTS driver_standings;\n",
    "DROP TABLE IF EXISTS drivers;\n",
    "DROP TABLE IF EXISTS lap_times;\n",
    "DROP TABLE IF EXISTS pit_stops;\n",
    "DROP TABLE IF EXISTS qualifying;\n",
    "DROP TABLE IF EXISTS races;\n",
    "DROP TABLE IF EXISTS results;\n",
    "DROP TABLE IF EXISTS seasons;\n",
    "DROP TABLE IF EXISTS sprint_results;\n",
    "DROP TABLE IF EXISTS status;\n",
    "\n",
    "CREATE TABLE circuits USING csv OPTIONS (path \"/FileStore/tables/circuits.csv\", header \"true\");\n",
    "CREATE TABLE constructor_results USING csv OPTIONS (path \"/FileStore/tables/constructor_results.csv\", header \"true\");\n",
    "CREATE TABLE constructor_standings USING csv OPTIONS (path \"/FileStore/tables/constructor_standings.csv\", header \"true\");\n",
    "CREATE TABLE constructors USING csv OPTIONS (path \"/FileStore/tables/constructors.csv\", header \"true\");\n",
    "CREATE TABLE driver_standings USING csv OPTIONS (path \"/FileStore/tables/driver_standings.csv\", header \"true\");\n",
    "CREATE TABLE drivers USING csv OPTIONS (path \"/FileStore/tables/drivers.csv\", header \"true\");\n",
    "CREATE TABLE lap_times USING csv OPTIONS (path \"/FileStore/tables/lap_times.csv\", header \"true\");\n",
    "CREATE TABLE pit_stops USING csv OPTIONS (path \"/FileStore/tables/pit_stops.csv\", header \"true\");\n",
    "CREATE TABLE qualifying USING csv OPTIONS (path \"/FileStore/tables/qualifying.csv\", header \"true\");\n",
    "CREATE TABLE races USING csv OPTIONS (path \"/FileStore/tables/races.csv\", header \"true\");\n",
    "CREATE TABLE results USING csv OPTIONS (path \"/FileStore/tables/results.csv\", header \"true\");\n",
    "CREATE TABLE seasons USING csv OPTIONS (path \"/FileStore/tables/seasons.csv\", header \"true\");\n",
    "CREATE TABLE sprint_results USING csv OPTIONS (path \"/FileStore/tables/sprint_results.csv\", header \"true\");\n",
    "CREATE TABLE status USING csv OPTIONS (path \"/FileStore/tables/status.csv\", header \"true\");\n"
   ]
  },
  {
   "cell_type": "code",
   "execution_count": 0,
   "metadata": {
    "application/vnd.databricks.v1+cell": {
     "cellMetadata": {},
     "inputWidgets": {},
     "nuid": "4312db4b-73d9-4598-9ab6-a03dcacb9838",
     "showTitle": false,
     "title": ""
    }
   },
   "outputs": [],
   "source": []
  }
 ],
 "metadata": {
  "application/vnd.databricks.v1+notebook": {
   "dashboards": [],
   "language": "python",
   "notebookMetadata": {
    "pythonIndentUnit": 4
   },
   "notebookName": "datalake-mnt",
   "widgets": {}
  }
 },
 "nbformat": 4,
 "nbformat_minor": 0
}
